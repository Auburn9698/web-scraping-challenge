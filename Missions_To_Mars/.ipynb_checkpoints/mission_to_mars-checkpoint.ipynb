{
 "cells": [
  {
   "cell_type": "code",
   "execution_count": 2,
   "metadata": {},
   "outputs": [],
   "source": [
    "import pandas as pd\n",
    "from splinter import Browser\n",
    "from bs4 import BeautifulSoup as bs\n",
    "from webdriver_manager.chrome import ChromeDriverManager\n",
    "from pprint import pprint"
   ]
  },
  {
   "cell_type": "code",
   "execution_count": 3,
   "metadata": {},
   "outputs": [
    {
     "name": "stderr",
     "output_type": "stream",
     "text": [
      "[WDM] - Current google-chrome version is 87.0.4280\n",
      "[WDM] - Get LATEST driver version for 87.0.4280\n"
     ]
    },
    {
     "name": "stdout",
     "output_type": "stream",
     "text": [
      " \n"
     ]
    },
    {
     "name": "stderr",
     "output_type": "stream",
     "text": [
      "[WDM] - Get LATEST driver version for 87.0.4280\n",
      "[WDM] - Trying to download new driver from http://chromedriver.storage.googleapis.com/87.0.4280.20/chromedriver_win32.zip\n",
      "[WDM] - Driver has been saved in cache [C:\\Users\\Greg\\.wdm\\drivers\\chromedriver\\win32\\87.0.4280.20]\n"
     ]
    }
   ],
   "source": [
    "executable_path = {'executable_path': ChromeDriverManager().install()}\n",
    "browser = Browser('chrome', **executable_path, headless=False)"
   ]
  },
  {
   "cell_type": "code",
   "execution_count": 4,
   "metadata": {},
   "outputs": [],
   "source": [
    "# page start function for later:\n",
    "def page_start(url):\n",
    "    browser.visit(url)\n",
    "    time.sleep(4)\n",
    "\n",
    "    html = browser.html\n",
    "    soupa = bs(html, \"html.parser\")\n",
    "    return soupa"
   ]
  },
  {
   "cell_type": "code",
   "execution_count": 5,
   "metadata": {},
   "outputs": [],
   "source": [
    "# Scrape the NASA Mars News Site and collect the latest News Title and Paragraph Text. \n",
    "# Assign the text to variables that you can reference later.\n",
    "url = 'https://mars.nasa.gov/news/'\n",
    "browser.visit(url)"
   ]
  },
  {
   "cell_type": "code",
   "execution_count": 6,
   "metadata": {},
   "outputs": [
    {
     "name": "stdout",
     "output_type": "stream",
     "text": [
      "MOXIE Could Help Future Rockets Launch Off Mars\n",
      "NASA's Perseverance rover carries a device to convert Martian air into oxygen that, if produced on a larger scale, could be used not just for breathing, but also for fuel.\n"
     ]
    }
   ],
   "source": [
    "html = browser.html\n",
    "# Create BeautifulSoup object; parse with 'html.parser'\n",
    "soup = bs(html, 'html.parser')\n",
    "# Retrieve all elements that contain article information:\n",
    "article=soup.find_all('div', class_='content_title')\n",
    "\n",
    "# Collect news title and paragraph text as news_title and news_p:\n",
    "news_title=article[1].text.strip()\n",
    "\n",
    "news_p=soup.find('div', class_='article_teaser_body').text.strip()\n",
    "news_p\n",
    "\n",
    "print(news_title)\n",
    "print(news_p)\n"
   ]
  },
  {
   "cell_type": "code",
   "execution_count": 7,
   "metadata": {},
   "outputs": [
    {
     "name": "stdout",
     "output_type": "stream",
     "text": [
      "https://www.jpl.nasa.gov/spaceimages/images/largesize/PIA18358_hires.jpg\n"
     ]
    }
   ],
   "source": [
    "# Visit the url for JPL Featured Space Image here.\n",
    "# Use splinter to navigate the site and find the image url for the current Featured Mars Image and assign the url string \n",
    "# to a variable called featured_image_url.\n",
    "base_url = 'https://www.jpl.nasa.gov'\n",
    "pic_url = 'https://www.jpl.nasa.gov/spaceimages/?search=&category=Mars'\n",
    "browser.visit(pic_url)\n",
    "\n",
    "browser.links.find_by_partial_text('FULL IMAGE').click()\n",
    "browser.links.find_by_partial_text('more info').click()\n",
    "\n",
    "html = browser.html\n",
    "soup = bs(html, 'html.parser')\n",
    "\n",
    "#print(soup.prettify())\n",
    "\n",
    "pic_info = soup.find('figure', class_='lede')\n",
    "image_url = pic_info.a['href']\n",
    "featured_image_url = base_url+image_url\n",
    "print(featured_image_url)"
   ]
  },
  {
   "cell_type": "code",
   "execution_count": 8,
   "metadata": {},
   "outputs": [],
   "source": [
    "#pic_info = soup.find('figure', class_='lede')\n",
    "#image_url = pic_info.a['href']\n",
    "\n",
    "#print(image_url)"
   ]
  },
  {
   "cell_type": "code",
   "execution_count": 9,
   "metadata": {},
   "outputs": [
    {
     "data": {
      "text/html": [
       "<div>\n",
       "<style scoped>\n",
       "    .dataframe tbody tr th:only-of-type {\n",
       "        vertical-align: middle;\n",
       "    }\n",
       "\n",
       "    .dataframe tbody tr th {\n",
       "        vertical-align: top;\n",
       "    }\n",
       "\n",
       "    .dataframe thead th {\n",
       "        text-align: right;\n",
       "    }\n",
       "</style>\n",
       "<table border=\"1\" class=\"dataframe\">\n",
       "  <thead>\n",
       "    <tr style=\"text-align: right;\">\n",
       "      <th></th>\n",
       "      <th>Value</th>\n",
       "    </tr>\n",
       "    <tr>\n",
       "      <th>Mars Fact</th>\n",
       "      <th></th>\n",
       "    </tr>\n",
       "  </thead>\n",
       "  <tbody>\n",
       "    <tr>\n",
       "      <th>Equatorial Diameter:</th>\n",
       "      <td>6,792 km</td>\n",
       "    </tr>\n",
       "    <tr>\n",
       "      <th>Polar Diameter:</th>\n",
       "      <td>6,752 km</td>\n",
       "    </tr>\n",
       "    <tr>\n",
       "      <th>Mass:</th>\n",
       "      <td>6.39 × 10^23 kg (0.11 Earths)</td>\n",
       "    </tr>\n",
       "    <tr>\n",
       "      <th>Moons:</th>\n",
       "      <td>2 (Phobos &amp; Deimos)</td>\n",
       "    </tr>\n",
       "    <tr>\n",
       "      <th>Orbit Distance:</th>\n",
       "      <td>227,943,824 km (1.38 AU)</td>\n",
       "    </tr>\n",
       "    <tr>\n",
       "      <th>Orbit Period:</th>\n",
       "      <td>687 days (1.9 years)</td>\n",
       "    </tr>\n",
       "    <tr>\n",
       "      <th>Surface Temperature:</th>\n",
       "      <td>-87 to -5 °C</td>\n",
       "    </tr>\n",
       "    <tr>\n",
       "      <th>First Record:</th>\n",
       "      <td>2nd millennium BC</td>\n",
       "    </tr>\n",
       "    <tr>\n",
       "      <th>Recorded By:</th>\n",
       "      <td>Egyptian astronomers</td>\n",
       "    </tr>\n",
       "  </tbody>\n",
       "</table>\n",
       "</div>"
      ],
      "text/plain": [
       "                                              Value\n",
       "Mars Fact                                          \n",
       "Equatorial Diameter:                       6,792 km\n",
       "Polar Diameter:                            6,752 km\n",
       "Mass:                 6.39 × 10^23 kg (0.11 Earths)\n",
       "Moons:                          2 (Phobos & Deimos)\n",
       "Orbit Distance:            227,943,824 km (1.38 AU)\n",
       "Orbit Period:                  687 days (1.9 years)\n",
       "Surface Temperature:                   -87 to -5 °C\n",
       "First Record:                     2nd millennium BC\n",
       "Recorded By:                   Egyptian astronomers"
      ]
     },
     "execution_count": 9,
     "metadata": {},
     "output_type": "execute_result"
    }
   ],
   "source": [
    "# Mars Facts\n",
    "# Visit the Mars Facts webpage here (https://space-facts.com/mars/) and use Pandas to scrape the table containing facts about \n",
    "# the planet including Diameter, Mass, etc.\n",
    "# Use Pandas to convert the data to a HTML table string.\n",
    "\n",
    "facts_url = 'https://space-facts.com/mars/'\n",
    "tables = pd.read_html(facts_url)\n",
    "mars_df = tables[0]\n",
    "mars_df.columns = ['Mars Fact', 'Value']\n",
    "mars_df.set_index('Mars Fact', inplace=True)\n",
    "mars_df"
   ]
  },
  {
   "cell_type": "code",
   "execution_count": 10,
   "metadata": {},
   "outputs": [
    {
     "data": {
      "text/plain": [
       "'<table border=\"1\" class=\"dataframe\">\\n  <thead>\\n    <tr style=\"text-align: right;\">\\n      <th></th>\\n      <th>Value</th>\\n    </tr>\\n    <tr>\\n      <th>Mars Fact</th>\\n      <th></th>\\n    </tr>\\n  </thead>\\n  <tbody>\\n    <tr>\\n      <th>Equatorial Diameter:</th>\\n      <td>6,792 km</td>\\n    </tr>\\n    <tr>\\n      <th>Polar Diameter:</th>\\n      <td>6,752 km</td>\\n    </tr>\\n    <tr>\\n      <th>Mass:</th>\\n      <td>6.39 × 10^23 kg (0.11 Earths)</td>\\n    </tr>\\n    <tr>\\n      <th>Moons:</th>\\n      <td>2 (Phobos &amp; Deimos)</td>\\n    </tr>\\n    <tr>\\n      <th>Orbit Distance:</th>\\n      <td>227,943,824 km (1.38 AU)</td>\\n    </tr>\\n    <tr>\\n      <th>Orbit Period:</th>\\n      <td>687 days (1.9 years)</td>\\n    </tr>\\n    <tr>\\n      <th>Surface Temperature:</th>\\n      <td>-87 to -5 °C</td>\\n    </tr>\\n    <tr>\\n      <th>First Record:</th>\\n      <td>2nd millennium BC</td>\\n    </tr>\\n    <tr>\\n      <th>Recorded By:</th>\\n      <td>Egyptian astronomers</td>\\n    </tr>\\n  </tbody>\\n</table>'"
      ]
     },
     "execution_count": 10,
     "metadata": {},
     "output_type": "execute_result"
    }
   ],
   "source": [
    "# Pandas also had a to_html method that we can use to generate HTML tables from DataFrames.\n",
    "html_table = mars_df.to_html()\n",
    "html_table"
   ]
  },
  {
   "cell_type": "code",
   "execution_count": 11,
   "metadata": {},
   "outputs": [],
   "source": [
    "# Mars Hemispheres\n",
    "# Visit the USGS Astrogeology site here (https://astrogeology.usgs.gov/search/results?q=hemisphere+enhanced&k1=target&v1=Mars)\n",
    "# to obtain high resolution images for each of Mar's hemispheres.\n",
    "# You will need to click each of the links to the hemispheres in order to find the image url to the full resolution image.\n",
    "# Save both the image url string for the full resolution hemisphere image, and the Hemisphere title containing the \n",
    "# hemisphere name. Use a Python dictionary to store the data using the keys img_url and title.\n",
    "# Append the dictionary with the image url string and the hemisphere title to a list. \n",
    "# This list will contain one dictionary for each hemisphere."
   ]
  },
  {
   "cell_type": "code",
   "execution_count": 12,
   "metadata": {},
   "outputs": [
    {
     "name": "stdout",
     "output_type": "stream",
     "text": [
      "[{'title': 'Cerberus Hemisphere Enhanced', 'img_url': 'https://astrogeology.usgs.gov/cache/images/f5e372a36edfa389625da6d0cc25d905_cerberus_enhanced.tif_full.jpg'}, {'title': 'Schiaparelli Hemisphere Enhanced', 'img_url': 'https://astrogeology.usgs.gov/cache/images/3778f7b43bbbc89d6e3cfabb3613ba93_schiaparelli_enhanced.tif_full.jpg'}, {'title': 'Syrtis Major Hemisphere Enhanced', 'img_url': 'https://astrogeology.usgs.gov/cache/images/555e6403a6ddd7ba16ddb0e471cadcf7_syrtis_major_enhanced.tif_full.jpg'}, {'title': 'Valles Marineris Hemisphere Enhanced', 'img_url': 'https://astrogeology.usgs.gov/cache/images/b3c7c6c9138f57b4756be9b9c43e3a48_valles_marineris_enhanced.tif_full.jpg'}]\n"
     ]
    }
   ],
   "source": [
    "import time\n",
    "hemisphere_image_urls = []\n",
    "\n",
    "base_url = 'https://astrogeology.usgs.gov'\n",
    "results_url = 'https://astrogeology.usgs.gov/search/results?q=hemisphere+enhanced&k1=target&v1=Mars'\n",
    "\n",
    "for item in range(4):\n",
    "    soup = page_start(results_url)\n",
    "    result = soup.find('div', class_ = 'collapsible results')\n",
    "    title = soup.find(\"div\", class_=\"collapsible results\").find_all(\"h3\")[item].text\n",
    "    \n",
    "    soup = browser.links.find_by_partial_text(title).click()\n",
    "    time.sleep(4)\n",
    "    html = browser.html\n",
    "    soupb = bs(html, \"html.parser\")\n",
    "    img_url = base_url + soupb.find(\"img\", class_=\"wide-image\")[\"src\"]\n",
    "    \n",
    "    hemisphere_image_urls.append({\"title\": title, \"img_url\": img_url})\n",
    "\n",
    "print(hemisphere_image_urls)\n",
    "    \n",
    "\n"
   ]
  },
  {
   "cell_type": "code",
   "execution_count": 81,
   "metadata": {},
   "outputs": [
    {
     "name": "stdout",
     "output_type": "stream",
     "text": [
      "{'featured_image_url': 'https://www.jpl.nasa.gov/spaceimages/images/largesize/PIA09320_hires.jpg',\n",
      " 'hemisphere_image_urls': [{'img_url': 'https://astrogeology.usgs.gov/cache/images/f5e372a36edfa389625da6d0cc25d905_cerberus_enhanced.tif_full.jpg',\n",
      "                            'title': 'Cerberus Hemisphere Enhanced'},\n",
      "                           {'img_url': 'https://astrogeology.usgs.gov/cache/images/3778f7b43bbbc89d6e3cfabb3613ba93_schiaparelli_enhanced.tif_full.jpg',\n",
      "                            'title': 'Schiaparelli Hemisphere Enhanced'},\n",
      "                           {'img_url': 'https://astrogeology.usgs.gov/cache/images/555e6403a6ddd7ba16ddb0e471cadcf7_syrtis_major_enhanced.tif_full.jpg',\n",
      "                            'title': 'Syrtis Major Hemisphere Enhanced'},\n",
      "                           {'img_url': 'https://astrogeology.usgs.gov/cache/images/b3c7c6c9138f57b4756be9b9c43e3a48_valles_marineris_enhanced.tif_full.jpg',\n",
      "                            'title': 'Valles Marineris Hemisphere Enhanced'}],\n",
      " 'html_table': '<table border=\"1\" class=\"dataframe\">\\n'\n",
      "               '  <thead>\\n'\n",
      "               '    <tr style=\"text-align: right;\">\\n'\n",
      "               '      <th></th>\\n'\n",
      "               '      <th>Value</th>\\n'\n",
      "               '    </tr>\\n'\n",
      "               '    <tr>\\n'\n",
      "               '      <th>Mars Fact</th>\\n'\n",
      "               '      <th></th>\\n'\n",
      "               '    </tr>\\n'\n",
      "               '  </thead>\\n'\n",
      "               '  <tbody>\\n'\n",
      "               '    <tr>\\n'\n",
      "               '      <th>Equatorial Diameter:</th>\\n'\n",
      "               '      <td>6,792 km</td>\\n'\n",
      "               '    </tr>\\n'\n",
      "               '    <tr>\\n'\n",
      "               '      <th>Polar Diameter:</th>\\n'\n",
      "               '      <td>6,752 km</td>\\n'\n",
      "               '    </tr>\\n'\n",
      "               '    <tr>\\n'\n",
      "               '      <th>Mass:</th>\\n'\n",
      "               '      <td>6.39 × 10^23 kg (0.11 Earths)</td>\\n'\n",
      "               '    </tr>\\n'\n",
      "               '    <tr>\\n'\n",
      "               '      <th>Moons:</th>\\n'\n",
      "               '      <td>2 (Phobos &amp; Deimos)</td>\\n'\n",
      "               '    </tr>\\n'\n",
      "               '    <tr>\\n'\n",
      "               '      <th>Orbit Distance:</th>\\n'\n",
      "               '      <td>227,943,824 km (1.38 AU)</td>\\n'\n",
      "               '    </tr>\\n'\n",
      "               '    <tr>\\n'\n",
      "               '      <th>Orbit Period:</th>\\n'\n",
      "               '      <td>687 days (1.9 years)</td>\\n'\n",
      "               '    </tr>\\n'\n",
      "               '    <tr>\\n'\n",
      "               '      <th>Surface Temperature:</th>\\n'\n",
      "               '      <td>-87 to -5 °C</td>\\n'\n",
      "               '    </tr>\\n'\n",
      "               '    <tr>\\n'\n",
      "               '      <th>First Record:</th>\\n'\n",
      "               '      <td>2nd millennium BC</td>\\n'\n",
      "               '    </tr>\\n'\n",
      "               '    <tr>\\n'\n",
      "               '      <th>Recorded By:</th>\\n'\n",
      "               '      <td>Egyptian astronomers</td>\\n'\n",
      "               '    </tr>\\n'\n",
      "               '  </tbody>\\n'\n",
      "               '</table>',\n",
      " 'news_p': \"NASA's Perseverance rover carries a device to convert Martian air \"\n",
      "           'into oxygen that, if produced on a larger scale, could be used not '\n",
      "           'just for breathing, but also for fuel.',\n",
      " 'news_title': 'MOXIE Could Help Future Rockets Launch Off Mars'}\n"
     ]
    }
   ],
   "source": [
    "# A dictionary for all the values:\n",
    "mars_data = {\n",
    "    \"news_title\": news_title,\n",
    "    \"news_p\": news_p,\n",
    "    \"featured_image_url\": featured_image_url,\n",
    "    \"html_table\": html_table,\n",
    "    \"hemisphere_image_urls\": hemisphere_image_urls,}\n",
    "\n",
    "\n",
    "    \n",
    "    \n",
    "pprint(mars_data)"
   ]
  },
  {
   "cell_type": "code",
   "execution_count": null,
   "metadata": {},
   "outputs": [],
   "source": []
  }
 ],
 "metadata": {
  "kernelspec": {
   "display_name": "Python [conda env:PyData] *",
   "language": "python",
   "name": "conda-env-PyData-py"
  },
  "language_info": {
   "codemirror_mode": {
    "name": "ipython",
    "version": 3
   },
   "file_extension": ".py",
   "mimetype": "text/x-python",
   "name": "python",
   "nbconvert_exporter": "python",
   "pygments_lexer": "ipython3",
   "version": "3.6.10"
  }
 },
 "nbformat": 4,
 "nbformat_minor": 4
}
